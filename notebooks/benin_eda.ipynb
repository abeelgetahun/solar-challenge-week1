{
 "cells": [
  {
   "cell_type": "markdown",
   "id": "d707fe99",
   "metadata": {},
   "source": [
    "Import Libraries"
   ]
  },
  {
   "cell_type": "code",
   "execution_count": 7,
   "id": "12672bba",
   "metadata": {},
   "outputs": [],
   "source": [
    "import pandas as pd\n",
    "import numpy as np\n",
    "import matplotlib.pyplot as plt\n",
    "import seaborn as sns\n",
    "from scipy import stats\n",
    "import plotly.express as px"
   ]
  },
  {
   "cell_type": "markdown",
   "id": "cf726c88",
   "metadata": {},
   "source": []
  },
  {
   "cell_type": "markdown",
   "id": "26581c25",
   "metadata": {},
   "source": [
    "Load the Data\n"
   ]
  },
  {
   "cell_type": "code",
   "execution_count": 8,
   "id": "e8891eb0",
   "metadata": {},
   "outputs": [],
   "source": [
    "df = pd.read_csv(r'..\\data\\benin-malanville.csv', parse_dates=['Timestamp'])"
   ]
  },
  {
   "cell_type": "markdown",
   "id": "28c4787c",
   "metadata": {},
   "source": [
    "Summary Statistics and Missing Values"
   ]
  },
  {
   "cell_type": "code",
   "execution_count": 9,
   "id": "7861a5bf",
   "metadata": {},
   "outputs": [
    {
     "data": {
      "text/plain": [
       "Timestamp             0\n",
       "GHI                   0\n",
       "DNI                   0\n",
       "DHI                   0\n",
       "ModA                  0\n",
       "ModB                  0\n",
       "Tamb                  0\n",
       "RH                    0\n",
       "WS                    0\n",
       "WSgust                0\n",
       "WSstdev               0\n",
       "WD                    0\n",
       "WDstdev               0\n",
       "BP                    0\n",
       "Cleaning              0\n",
       "Precipitation         0\n",
       "TModA                 0\n",
       "TModB                 0\n",
       "Comments         525600\n",
       "dtype: int64"
      ]
     },
     "execution_count": 9,
     "metadata": {},
     "output_type": "execute_result"
    }
   ],
   "source": [
    "df.describe()\n",
    "df.isna().sum()"
   ]
  },
  {
   "cell_type": "markdown",
   "id": "0b267e0a",
   "metadata": {},
   "source": [
    "Summary Statistics and Missing Values"
   ]
  },
  {
   "cell_type": "code",
   "execution_count": 10,
   "id": "fd2bc414",
   "metadata": {},
   "outputs": [
    {
     "data": {
      "text/plain": [
       "Timestamp             0\n",
       "GHI                   0\n",
       "DNI                   0\n",
       "DHI                   0\n",
       "ModA                  0\n",
       "ModB                  0\n",
       "Tamb                  0\n",
       "RH                    0\n",
       "WS                    0\n",
       "WSgust                0\n",
       "WSstdev               0\n",
       "WD                    0\n",
       "WDstdev               0\n",
       "BP                    0\n",
       "Cleaning              0\n",
       "Precipitation         0\n",
       "TModA                 0\n",
       "TModB                 0\n",
       "Comments         525600\n",
       "dtype: int64"
      ]
     },
     "execution_count": 10,
     "metadata": {},
     "output_type": "execute_result"
    }
   ],
   "source": [
    "df.describe()\n",
    "df.isna().sum()"
   ]
  },
  {
   "cell_type": "markdown",
   "id": "becc8e91",
   "metadata": {},
   "source": [
    "Outlier Detection and Cleaning"
   ]
  },
  {
   "cell_type": "code",
   "execution_count": 11,
   "id": "e16f245c",
   "metadata": {},
   "outputs": [
    {
     "name": "stdout",
     "output_type": "stream",
     "text": [
      "GHI: 89 outliers\n",
      "DNI: 0 outliers\n",
      "DHI: 3738 outliers\n",
      "ModA: 27 outliers\n",
      "ModB: 63 outliers\n",
      "WS: 3109 outliers\n",
      "WSgust: 3500 outliers\n"
     ]
    }
   ],
   "source": [
    "from scipy.stats import zscore\n",
    "\n",
    "outlier_cols = ['GHI', 'DNI', 'DHI', 'ModA', 'ModB', 'WS', 'WSgust']\n",
    "z_scores = np.abs(stats.zscore(df[outlier_cols], nan_policy='omit'))\n",
    "outliers = (z_scores > 3)\n",
    "for i, col in enumerate(outlier_cols):\n",
    "    print(f\"{col}: {outliers[:,i].sum()} outliers\")"
   ]
  },
  {
   "cell_type": "markdown",
   "id": "b276eb9b",
   "metadata": {},
   "source": [
    "Save Cleaned Data (Notebook Cell)"
   ]
  },
  {
   "cell_type": "code",
   "execution_count": 12,
   "id": "882faff4",
   "metadata": {},
   "outputs": [],
   "source": [
    "df.to_csv('../data/cleaned/benin_clean.csv', index=False)"
   ]
  },
  {
   "cell_type": "markdown",
   "id": "a11cae09",
   "metadata": {},
   "source": [
    "Visualizations and Analysis (Notebook Cells)"
   ]
  },
  {
   "cell_type": "code",
   "execution_count": 13,
   "id": "8c03e317",
   "metadata": {},
   "outputs": [
    {
     "data": {
      "image/png": "[encoded data removed]",
      "text/plain": [
       "<Figure size 640x480 with 1 Axes>"
      ]
     },
     "metadata": {},
     "output_type": "display_data"
    }
   ],
   "source": [
    "plt.plot(df['Timestamp'], df['GHI'])\n",
    "plt.title('GHI Over Time')\n",
    "plt.xlabel('Timestamp')\n",
    "plt.ylabel('GHI (W/m²)')\n",
    "plt.show()"
   ]
  }
 ],
 "metadata": {
  "kernelspec": {
   "display_name": ".venv",
   "language": "python",
   "name": "python3"
  },
  "language_info": {
   "codemirror_mode": {
    "name": "ipython",
    "version": 3
   },
   "file_extension": ".py",
   "mimetype": "text/x-python",
   "name": "python",
   "nbconvert_exporter": "python",
   "pygments_lexer": "ipython3",
   "version": "3.13.3"
  }
 },
 "nbformat": 4,
 "nbformat_minor": 5
}
